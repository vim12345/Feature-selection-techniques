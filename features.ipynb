{
  "nbformat": 4,
  "nbformat_minor": 0,
  "metadata": {
    "colab": {
      "provenance": []
    },
    "kernelspec": {
      "name": "python3",
      "display_name": "Python 3"
    },
    "language_info": {
      "name": "python"
    }
  },
  "cells": [
    {
      "cell_type": "code",
      "execution_count": 1,
      "metadata": {
        "id": "S6BMzwPdFWFr"
      },
      "outputs": [],
      "source": [
        "# Import required libraries\n",
        "from sklearn.datasets import load_iris\n",
        "from sklearn.feature_selection import SelectKBest, f_classif, RFE\n",
        "from sklearn.ensemble import RandomForestClassifier\n",
        "from sklearn.linear_model import LogisticRegression\n",
        "import pandas as pd"
      ]
    },
    {
      "cell_type": "code",
      "source": [
        "# Load Iris dataset\n",
        "iris = load_iris()\n",
        "X = iris.data\n",
        "y = iris.target\n",
        "feature_names = iris.feature_names\n",
        ""
      ],
      "metadata": {
        "id": "Qf6ikhlmFdUL"
      },
      "execution_count": 2,
      "outputs": []
    },
    {
      "cell_type": "code",
      "source": [
        "# Convert to DataFrame for clarity\n",
        "df = pd.DataFrame(X, columns=feature_names)\n",
        "df[\"target\"] = y\n"
      ],
      "metadata": {
        "id": "nfr1iiaoFdWr"
      },
      "execution_count": 3,
      "outputs": []
    },
    {
      "cell_type": "code",
      "source": [
        "# ---- 1. Univariate Selection (ANOVA F-test) ----\n",
        "selector = SelectKBest(score_func=f_classif, k=2)\n",
        "X_new = selector.fit_transform(X, y)\n",
        "selected_features_univariate = [feature_names[i] for i in selector.get_support(indices=True)]\n",
        "\n",
        "print(\"Top 2 Features (Univariate Selection - ANOVA F-test):\")\n",
        "print(selected_features_univariate)\n",
        ""
      ],
      "metadata": {
        "colab": {
          "base_uri": "https://localhost:8080/"
        },
        "id": "pA9M52IdFdZT",
        "outputId": "ca799ed1-dbe0-4726-9578-ebab3b18f0e0"
      },
      "execution_count": 4,
      "outputs": [
        {
          "output_type": "stream",
          "name": "stdout",
          "text": [
            "Top 2 Features (Univariate Selection - ANOVA F-test):\n",
            "['petal length (cm)', 'petal width (cm)']\n"
          ]
        }
      ]
    },
    {
      "cell_type": "code",
      "source": [
        "\n",
        "# ---- 2. Recursive Feature Elimination (RFE) ----\n",
        "rfe_model = RFE(estimator=LogisticRegression(max_iter=200), n_features_to_select=2)\n",
        "rfe_model.fit(X, y)\n",
        "selected_features_rfe = [feature_names[i] for i in range(len(feature_names)) if rfe_model.support_[i]]\n",
        "\n",
        "print(\"\\nTop 2 Features (Recursive Feature Elimination):\")\n",
        "print(selected_features_rfe)\n",
        ""
      ],
      "metadata": {
        "colab": {
          "base_uri": "https://localhost:8080/"
        },
        "id": "7BnH8MlhFdcV",
        "outputId": "5ce76356-62aa-4435-a41c-6db0f7c2080c"
      },
      "execution_count": 5,
      "outputs": [
        {
          "output_type": "stream",
          "name": "stdout",
          "text": [
            "\n",
            "Top 2 Features (Recursive Feature Elimination):\n",
            "['petal length (cm)', 'petal width (cm)']\n"
          ]
        }
      ]
    },
    {
      "cell_type": "code",
      "source": [
        "# ---- 3. Feature Importance from Random Forest ----\n",
        "rf_model = RandomForestClassifier(n_estimators=100, random_state=42)\n",
        "rf_model.fit(X, y)\n",
        "feature_importances = rf_model.feature_importances_\n",
        "\n",
        "# Rank and select top 2\n",
        "importance_df = pd.DataFrame({\n",
        "    \"Feature\": feature_names,\n",
        "    \"Importance\": feature_importances\n",
        "}).sort_values(by=\"Importance\", ascending=False)\n",
        "\n",
        "print(\"\\nFeature Importances (Random Forest):\")\n",
        "print(importance_df)\n",
        "\n",
        "# Display top 2\n",
        "top_features_rf = importance_df[\"Feature\"].values[:2]\n",
        "print(\"\\nTop 2 Features (Random Forest Importance):\")\n",
        "print(top_features_rf)"
      ],
      "metadata": {
        "colab": {
          "base_uri": "https://localhost:8080/"
        },
        "id": "f1fHrVriFdmT",
        "outputId": "4565b626-103f-4f0c-c5f1-aed6e9359e8e"
      },
      "execution_count": 6,
      "outputs": [
        {
          "output_type": "stream",
          "name": "stdout",
          "text": [
            "\n",
            "Feature Importances (Random Forest):\n",
            "             Feature  Importance\n",
            "2  petal length (cm)    0.436130\n",
            "3   petal width (cm)    0.436065\n",
            "0  sepal length (cm)    0.106128\n",
            "1   sepal width (cm)    0.021678\n",
            "\n",
            "Top 2 Features (Random Forest Importance):\n",
            "['petal length (cm)' 'petal width (cm)']\n"
          ]
        }
      ]
    }
  ]
}